{
  "cells": [
    {
      "cell_type": "markdown",
      "metadata": {
        "id": "view-in-github",
        "colab_type": "text"
      },
      "source": [
        "<a href=\"https://colab.research.google.com/github/Biswamitra4599/mri_setup/blob/main/Bart_sense_V3.ipynb\" target=\"_parent\"><img src=\"https://colab.research.google.com/assets/colab-badge.svg\" alt=\"Open In Colab\"/></a>"
      ]
    },
    {
      "cell_type": "markdown",
      "source": [
        "#USING BART\n"
      ],
      "metadata": {
        "id": "RXK3yrMt_UoD"
      }
    },
    {
      "cell_type": "markdown",
      "source": [
        "## Importing System Libraries & Mounting Drive\n"
      ],
      "metadata": {
        "id": "jzWOisG4AgjN"
      }
    },
    {
      "cell_type": "code",
      "source": [
        "import os\n",
        "import sys\n",
        "import numpy as np\n",
        "from matplotlib import pyplot as plt\n",
        "from matplotlib import cm\n",
        "from mpl_toolkits.axes_grid1 import make_axes_locatable\n",
        "from IPython.display import Image\n",
        "import h5py\n",
        "import glob\n",
        "import shutil\n"
      ],
      "metadata": {
        "id": "N8_kXWhNemQv"
      },
      "execution_count": 42,
      "outputs": []
    },
    {
      "cell_type": "code",
      "source": [
        "#Mounting Google Drive\n",
        "# !rm -rf drive\n",
        "from google.colab import drive\n",
        "drive.mount('/content/drive',force_remount=True)"
      ],
      "metadata": {
        "colab": {
          "base_uri": "https://localhost:8080/"
        },
        "id": "9Rx_cG3AnIQI",
        "outputId": "4f36b492-873c-4fdb-8ace-9cd5572c3a16"
      },
      "execution_count": 38,
      "outputs": [
        {
          "output_type": "stream",
          "name": "stdout",
          "text": [
            "Mounted at /content/drive\n"
          ]
        }
      ]
    },
    {
      "cell_type": "code",
      "source": [
        "# Remove an empty directory\n",
        "mri_path=\"/content/drive/MyDrive/MRI/\"\n",
        "cfl_path=mri_path+\"CFL/\"\n",
        "buffer_path=mri_path+\"BUFFER/\"\n",
        "h5_path=mri_path+\"H5/\"\n",
        "test_path=mri_path+\"TEST/\"\n",
        "\n",
        "# Check if the directory exists\n",
        "if os.path.exists(buffer_path) and os.path.isdir(buffer_path):\n",
        "    try:\n",
        "        # Force delete the directory and all its contents\n",
        "        shutil.rmtree(buffer_path)\n",
        "        print(f\"Directory '{buffer_path}' and all its contents have been deleted.\")\n",
        "    except Exception as e:\n",
        "        print(f\"Error while deleting the directory: {e}\")\n",
        "else:\n",
        "    print(f\"The directory '{buffer_path}' does not exist.\")\n",
        "\n",
        "\n",
        "# try:\n",
        "#     os.rmdir(buffer_path)\n",
        "#     print(f\"Directory '{buffer_path}' removed successfully.\")\n",
        "# except OSError as e:\n",
        "#     print(f\"Error: {e.strerror}\")"
      ],
      "metadata": {
        "id": "30cvdURNotpm",
        "colab": {
          "base_uri": "https://localhost:8080/"
        },
        "outputId": "36bf91a0-79d0-43bb-b653-5c7d3f656f79"
      },
      "execution_count": 43,
      "outputs": [
        {
          "output_type": "stream",
          "name": "stdout",
          "text": [
            "Directory '/content/drive/MyDrive/MRI/BUFFER/' and all its contents have been deleted.\n"
          ]
        }
      ]
    },
    {
      "cell_type": "code",
      "source": [
        "# Managing the Paths to avoid any Error\n",
        "if not os.path.exists(mri_path):\n",
        "  os.makedirs(mri_path)\n",
        "  os.makedirs(cfl_path)\n",
        "  os.makedirs(buffer_path)\n",
        "  os.makedirs(h5_path)\n",
        "  os.makedirs(test_path)\n",
        "  print(f\"Path Created!!! Put the '.h5' files in the specific place: {h5_path}\")\n",
        "else:\n",
        "  os.makedirs(buffer_path)\n",
        "  print(\"Path Already Exists!!\")\n"
      ],
      "metadata": {
        "id": "pvAP9DzLZB5b",
        "colab": {
          "base_uri": "https://localhost:8080/"
        },
        "outputId": "0a7723d7-3a1d-4633-b15f-c0cfa3564231"
      },
      "execution_count": 44,
      "outputs": [
        {
          "output_type": "stream",
          "name": "stdout",
          "text": [
            "Path Already Exists!!\n"
          ]
        }
      ]
    },
    {
      "cell_type": "markdown",
      "source": [
        "## Fast MRI Setup"
      ],
      "metadata": {
        "id": "abBtx1uQbFyi"
      }
    },
    {
      "cell_type": "code",
      "source": [
        "!pip install fastmri"
      ],
      "metadata": {
        "collapsed": true,
        "id": "wcbCSa5_6uid",
        "colab": {
          "base_uri": "https://localhost:8080/"
        },
        "outputId": "83ea0aa6-6b1b-4a57-87d7-571ec518c443"
      },
      "execution_count": 45,
      "outputs": [
        {
          "output_type": "stream",
          "name": "stdout",
          "text": [
            "Requirement already satisfied: fastmri in /usr/local/lib/python3.11/dist-packages (0.3.0)\n",
            "Requirement already satisfied: numpy>=1.18.5 in /usr/local/lib/python3.11/dist-packages (from fastmri) (2.0.2)\n",
            "Requirement already satisfied: scikit-image>=0.16.2 in /usr/local/lib/python3.11/dist-packages (from fastmri) (0.25.2)\n",
            "Requirement already satisfied: torchvision>=0.8.1 in /usr/local/lib/python3.11/dist-packages (from fastmri) (0.21.0+cu124)\n",
            "Requirement already satisfied: torch>=1.8.0 in /usr/local/lib/python3.11/dist-packages (from fastmri) (2.6.0+cu124)\n",
            "Requirement already satisfied: runstats>=1.8.0 in /usr/local/lib/python3.11/dist-packages (from fastmri) (2.0.0)\n",
            "Requirement already satisfied: pytorch-lightning>=1.4 in /usr/local/lib/python3.11/dist-packages (from fastmri) (2.5.1)\n",
            "Requirement already satisfied: h5py>=2.10.0 in /usr/local/lib/python3.11/dist-packages (from fastmri) (3.13.0)\n",
            "Requirement already satisfied: PyYAML>=5.3.1 in /usr/local/lib/python3.11/dist-packages (from fastmri) (6.0.2)\n",
            "Requirement already satisfied: torchmetrics>=0.5.1 in /usr/local/lib/python3.11/dist-packages (from fastmri) (1.7.0)\n",
            "Requirement already satisfied: pandas>=1.3.4 in /usr/local/lib/python3.11/dist-packages (from fastmri) (2.2.2)\n",
            "Requirement already satisfied: python-dateutil>=2.8.2 in /usr/local/lib/python3.11/dist-packages (from pandas>=1.3.4->fastmri) (2.8.2)\n",
            "Requirement already satisfied: pytz>=2020.1 in /usr/local/lib/python3.11/dist-packages (from pandas>=1.3.4->fastmri) (2025.1)\n",
            "Requirement already satisfied: tzdata>=2022.7 in /usr/local/lib/python3.11/dist-packages (from pandas>=1.3.4->fastmri) (2025.1)\n",
            "Requirement already satisfied: tqdm>=4.57.0 in /usr/local/lib/python3.11/dist-packages (from pytorch-lightning>=1.4->fastmri) (4.67.1)\n",
            "Requirement already satisfied: fsspec>=2022.5.0 in /usr/local/lib/python3.11/dist-packages (from fsspec[http]>=2022.5.0->pytorch-lightning>=1.4->fastmri) (2025.3.0)\n",
            "Requirement already satisfied: packaging>=20.0 in /usr/local/lib/python3.11/dist-packages (from pytorch-lightning>=1.4->fastmri) (24.2)\n",
            "Requirement already satisfied: typing-extensions>=4.4.0 in /usr/local/lib/python3.11/dist-packages (from pytorch-lightning>=1.4->fastmri) (4.12.2)\n",
            "Requirement already satisfied: lightning-utilities>=0.10.0 in /usr/local/lib/python3.11/dist-packages (from pytorch-lightning>=1.4->fastmri) (0.14.2)\n",
            "Requirement already satisfied: scipy>=1.11.4 in /usr/local/lib/python3.11/dist-packages (from scikit-image>=0.16.2->fastmri) (1.14.1)\n",
            "Requirement already satisfied: networkx>=3.0 in /usr/local/lib/python3.11/dist-packages (from scikit-image>=0.16.2->fastmri) (3.4.2)\n",
            "Requirement already satisfied: pillow>=10.1 in /usr/local/lib/python3.11/dist-packages (from scikit-image>=0.16.2->fastmri) (11.1.0)\n",
            "Requirement already satisfied: imageio!=2.35.0,>=2.33 in /usr/local/lib/python3.11/dist-packages (from scikit-image>=0.16.2->fastmri) (2.37.0)\n",
            "Requirement already satisfied: tifffile>=2022.8.12 in /usr/local/lib/python3.11/dist-packages (from scikit-image>=0.16.2->fastmri) (2025.3.13)\n",
            "Requirement already satisfied: lazy-loader>=0.4 in /usr/local/lib/python3.11/dist-packages (from scikit-image>=0.16.2->fastmri) (0.4)\n",
            "Requirement already satisfied: filelock in /usr/local/lib/python3.11/dist-packages (from torch>=1.8.0->fastmri) (3.18.0)\n",
            "Requirement already satisfied: jinja2 in /usr/local/lib/python3.11/dist-packages (from torch>=1.8.0->fastmri) (3.1.6)\n",
            "Requirement already satisfied: nvidia-cuda-nvrtc-cu12==12.4.127 in /usr/local/lib/python3.11/dist-packages (from torch>=1.8.0->fastmri) (12.4.127)\n",
            "Requirement already satisfied: nvidia-cuda-runtime-cu12==12.4.127 in /usr/local/lib/python3.11/dist-packages (from torch>=1.8.0->fastmri) (12.4.127)\n",
            "Requirement already satisfied: nvidia-cuda-cupti-cu12==12.4.127 in /usr/local/lib/python3.11/dist-packages (from torch>=1.8.0->fastmri) (12.4.127)\n",
            "Requirement already satisfied: nvidia-cudnn-cu12==9.1.0.70 in /usr/local/lib/python3.11/dist-packages (from torch>=1.8.0->fastmri) (9.1.0.70)\n",
            "Requirement already satisfied: nvidia-cublas-cu12==12.4.5.8 in /usr/local/lib/python3.11/dist-packages (from torch>=1.8.0->fastmri) (12.4.5.8)\n",
            "Requirement already satisfied: nvidia-cufft-cu12==11.2.1.3 in /usr/local/lib/python3.11/dist-packages (from torch>=1.8.0->fastmri) (11.2.1.3)\n",
            "Requirement already satisfied: nvidia-curand-cu12==10.3.5.147 in /usr/local/lib/python3.11/dist-packages (from torch>=1.8.0->fastmri) (10.3.5.147)\n",
            "Requirement already satisfied: nvidia-cusolver-cu12==11.6.1.9 in /usr/local/lib/python3.11/dist-packages (from torch>=1.8.0->fastmri) (11.6.1.9)\n",
            "Requirement already satisfied: nvidia-cusparse-cu12==12.3.1.170 in /usr/local/lib/python3.11/dist-packages (from torch>=1.8.0->fastmri) (12.3.1.170)\n",
            "Requirement already satisfied: nvidia-cusparselt-cu12==0.6.2 in /usr/local/lib/python3.11/dist-packages (from torch>=1.8.0->fastmri) (0.6.2)\n",
            "Requirement already satisfied: nvidia-nccl-cu12==2.21.5 in /usr/local/lib/python3.11/dist-packages (from torch>=1.8.0->fastmri) (2.21.5)\n",
            "Requirement already satisfied: nvidia-nvtx-cu12==12.4.127 in /usr/local/lib/python3.11/dist-packages (from torch>=1.8.0->fastmri) (12.4.127)\n",
            "Requirement already satisfied: nvidia-nvjitlink-cu12==12.4.127 in /usr/local/lib/python3.11/dist-packages (from torch>=1.8.0->fastmri) (12.4.127)\n",
            "Requirement already satisfied: triton==3.2.0 in /usr/local/lib/python3.11/dist-packages (from torch>=1.8.0->fastmri) (3.2.0)\n",
            "Requirement already satisfied: sympy==1.13.1 in /usr/local/lib/python3.11/dist-packages (from torch>=1.8.0->fastmri) (1.13.1)\n",
            "Requirement already satisfied: mpmath<1.4,>=1.1.0 in /usr/local/lib/python3.11/dist-packages (from sympy==1.13.1->torch>=1.8.0->fastmri) (1.3.0)\n",
            "Requirement already satisfied: aiohttp!=4.0.0a0,!=4.0.0a1 in /usr/local/lib/python3.11/dist-packages (from fsspec[http]>=2022.5.0->pytorch-lightning>=1.4->fastmri) (3.11.14)\n",
            "Requirement already satisfied: setuptools in /usr/local/lib/python3.11/dist-packages (from lightning-utilities>=0.10.0->pytorch-lightning>=1.4->fastmri) (75.1.0)\n",
            "Requirement already satisfied: six>=1.5 in /usr/local/lib/python3.11/dist-packages (from python-dateutil>=2.8.2->pandas>=1.3.4->fastmri) (1.17.0)\n",
            "Requirement already satisfied: MarkupSafe>=2.0 in /usr/local/lib/python3.11/dist-packages (from jinja2->torch>=1.8.0->fastmri) (3.0.2)\n",
            "Requirement already satisfied: aiohappyeyeballs>=2.3.0 in /usr/local/lib/python3.11/dist-packages (from aiohttp!=4.0.0a0,!=4.0.0a1->fsspec[http]>=2022.5.0->pytorch-lightning>=1.4->fastmri) (2.6.1)\n",
            "Requirement already satisfied: aiosignal>=1.1.2 in /usr/local/lib/python3.11/dist-packages (from aiohttp!=4.0.0a0,!=4.0.0a1->fsspec[http]>=2022.5.0->pytorch-lightning>=1.4->fastmri) (1.3.2)\n",
            "Requirement already satisfied: attrs>=17.3.0 in /usr/local/lib/python3.11/dist-packages (from aiohttp!=4.0.0a0,!=4.0.0a1->fsspec[http]>=2022.5.0->pytorch-lightning>=1.4->fastmri) (25.3.0)\n",
            "Requirement already satisfied: frozenlist>=1.1.1 in /usr/local/lib/python3.11/dist-packages (from aiohttp!=4.0.0a0,!=4.0.0a1->fsspec[http]>=2022.5.0->pytorch-lightning>=1.4->fastmri) (1.5.0)\n",
            "Requirement already satisfied: multidict<7.0,>=4.5 in /usr/local/lib/python3.11/dist-packages (from aiohttp!=4.0.0a0,!=4.0.0a1->fsspec[http]>=2022.5.0->pytorch-lightning>=1.4->fastmri) (6.2.0)\n",
            "Requirement already satisfied: propcache>=0.2.0 in /usr/local/lib/python3.11/dist-packages (from aiohttp!=4.0.0a0,!=4.0.0a1->fsspec[http]>=2022.5.0->pytorch-lightning>=1.4->fastmri) (0.3.0)\n",
            "Requirement already satisfied: yarl<2.0,>=1.17.0 in /usr/local/lib/python3.11/dist-packages (from aiohttp!=4.0.0a0,!=4.0.0a1->fsspec[http]>=2022.5.0->pytorch-lightning>=1.4->fastmri) (1.18.3)\n",
            "Requirement already satisfied: idna>=2.0 in /usr/local/lib/python3.11/dist-packages (from yarl<2.0,>=1.17.0->aiohttp!=4.0.0a0,!=4.0.0a1->fsspec[http]>=2022.5.0->pytorch-lightning>=1.4->fastmri) (3.10)\n"
          ]
        }
      ]
    },
    {
      "cell_type": "code",
      "execution_count": 46,
      "metadata": {
        "id": "SOEkXAV_dwrr"
      },
      "outputs": [],
      "source": [
        "import fastmri\n",
        "from fastmri.data import transforms as T\n",
        "from fastmri.data.subsample import RandomMaskFunc"
      ]
    },
    {
      "cell_type": "markdown",
      "metadata": {
        "id": "JvH-P8vf7-IT"
      },
      "source": [
        "## Sense Reconstruction\n",
        "by: Mahesh (SIR)"
      ]
    },
    {
      "cell_type": "markdown",
      "source": [
        "### Setting up the GPU and the appt environment"
      ],
      "metadata": {
        "id": "LIiM1JgV_lMF"
      }
    },
    {
      "cell_type": "code",
      "execution_count": null,
      "metadata": {
        "id": "Os0e8ija7sZL"
      },
      "outputs": [],
      "source": [
        "%%bash\n",
        "\n",
        "# Use CUDA 10.1 when on Tesla K80\n",
        "\n",
        "# Estimate GPU Type\n",
        "GPU_NAME=$(nvidia-smi --query-gpu=gpu_name --format=csv,noheader)\n",
        "\n",
        "echo \"GPU Type:\"\n",
        "echo $GPU_NAME\n",
        "\n",
        "if [ \"Tesla K80\" = \"$GPU_NAME\" ];\n",
        "then\n",
        "    echo \"GPU type Tesla K80 does not support CUDA 11. Set CUDA to version 10.1.\"\n",
        "\n",
        "    # Change default CUDA to version 10.1\n",
        "    cd /usr/local\n",
        "    rm cuda\n",
        "    ln -s cuda-10.1 cuda\n",
        "    echo \"done!!!\"\n",
        "else\n",
        "    echo \"Current GPU supports default CUDA-11.\"\n",
        "    echo \"No further actions are necessary.\"\n",
        "fi\n",
        "\n",
        "echo \"GPU Information:\"\n",
        "nvidia-smi --query-gpu=gpu_name,driver_version,memory.total --format=csv\n",
        "nvcc --version"
      ]
    },
    {
      "cell_type": "markdown",
      "source": [
        "### BART INSTALLATION\n",
        "\n",
        "1.  Dependencies for BART,\n",
        "2.  Installation of BART,\n",
        "3.  Environment Setup.\n",
        "\n",
        "\n",
        "\n",
        "\n",
        "\n"
      ],
      "metadata": {
        "id": "C-ErdfEf_tnB"
      }
    },
    {
      "cell_type": "code",
      "execution_count": null,
      "metadata": {
        "id": "lELXSSno8Xt5"
      },
      "outputs": [],
      "source": [
        "%%bash\n",
        "\n",
        "# Install BARTs dependencies\n",
        "apt-get install -y make gcc libfftw3-dev liblapacke-dev libpng-dev libopenblas-dev &> /dev/null\n",
        "\n",
        "# Clone Bart\n",
        "[ -d /content/bart ] && rm -r /content/bart\n",
        "git clone https://github.com/mrirecon/bart/ bart &> /dev/null\n",
        "echo \"Dependencies Done!!\"\n",
        "pwd"
      ]
    },
    {
      "cell_type": "code",
      "execution_count": null,
      "metadata": {
        "id": "ZGBYV6fs8gk4",
        "colab": {
          "base_uri": "https://localhost:8080/"
        },
        "collapsed": true,
        "outputId": "0e0f6053-b0f8-49f5-982a-ee6ccaab6667"
      },
      "outputs": [
        {
          "output_type": "stream",
          "name": "stdout",
          "text": [
            "/content\n",
            "/content/bart\n",
            "/content/bart\n"
          ]
        }
      ],
      "source": [
        "%%bash\n",
        "pwd\n",
        "BRANCH=ISMRM21\n",
        "\n",
        "cd bart\n",
        "\n",
        "pwd\n",
        "# Switch to desired branch of the BART project\n",
        "git checkout -q $BRANCH\n",
        "\n",
        "pwd\n",
        "\n",
        "# Define specifications\n",
        "COMPILE_SPECS=\" PARALLEL=1\n",
        "                CUDA=1\n",
        "                CUDA_BASE=/usr/local/cuda\n",
        "                CUDA_LIB=lib64\n",
        "                OPENBLAS=1\n",
        "                BLAS_THREADSAFE=1\"\n",
        "\n",
        "printf \"%s\\n\" $COMPILE_SPECS > Makefiles/Makefile.local\n",
        "\n",
        "make &> /dev/null\n"
      ]
    },
    {
      "cell_type": "code",
      "source": [
        "# Define environment variables for BART and OpenMP\n",
        "os.environ['TOOLBOX_PATH'] = \"/content/bart\"\n",
        "os.environ['OMP_NUM_THREADS']=\"4\"\n",
        "# Add the BARTs toolbox to the PATH variable\n",
        "os.environ['PATH'] = os.environ['TOOLBOX_PATH'] + \":\" + os.environ['PATH']\n",
        "sys.path.append(\"/content/bart/python\")\n",
        "print(sys.path)"
      ],
      "metadata": {
        "colab": {
          "base_uri": "https://localhost:8080/"
        },
        "id": "U6X_hyJ-Abrt",
        "outputId": "977a1ada-6982-404d-ac23-8efade5a4058"
      },
      "execution_count": null,
      "outputs": [
        {
          "output_type": "stream",
          "name": "stdout",
          "text": [
            "['/content', '/env/python', '/usr/lib/python311.zip', '/usr/lib/python3.11', '/usr/lib/python3.11/lib-dynload', '', '/usr/local/lib/python3.11/dist-packages', '/usr/lib/python3/dist-packages', '/usr/local/lib/python3.11/dist-packages/IPython/extensions', '/root/.ipython', '/content/bart/python']\n"
          ]
        }
      ]
    },
    {
      "cell_type": "code",
      "execution_count": 47,
      "metadata": {
        "colab": {
          "base_uri": "https://localhost:8080/"
        },
        "id": "uXv5qU5-CIfk",
        "outputId": "7d81bbdb-d16c-4398-8cff-392489de27ec"
      },
      "outputs": [
        {
          "output_type": "stream",
          "name": "stdout",
          "text": [
            "# The BART used in this notebook:\n",
            "/content/bart/bart\n",
            "# BART version: \n",
            "v0.7.00-88-g9d66c09\n",
            "BART. Available commands are:\n",
            "avg         bench       bin         bitmask     cabs        caldir      \n",
            "calmat      carg        casorati    cc          ccapply     cdf97       \n",
            "circshift   conj        conv        conway      copy        cpyphs      \n",
            "creal       crop        delta       ecalib      ecaltwo     epg         \n",
            "estdelay    estdims     estshift    estvar      extract     fakeksp     \n",
            "fft         fftmod      fftrot      fftshift    filter      flatten     \n",
            "flip        fmac        homodyne    index       invert      itsense     \n",
            "join        looklocker  lrmatrix    mandelbrot  mip         moba        \n",
            "mobafit     nlinv       noise       normalize   nrmse       nufft       \n",
            "ones        pattern     phantom     pics        pocsense    poisson     \n",
            "pol2mask    poly        repmat      reshape     resize      rmfreq      \n",
            "rof         roistat     rss         rtnlinv     sake        saxpy       \n",
            "scale       sdot        show        signal      slice       spow        \n",
            "sqpics      squeeze     ssa         std         svd         tgv         \n",
            "threshold   toimg       traj        transpose   twixread    upat        \n",
            "var         vec         version     walsh       wave        wavelet     \n",
            "wavepsf     whiten      window      wshfl       zeros       zexp        \n"
          ]
        }
      ],
      "source": [
        "\n",
        "!echo \"# The BART used in this notebook:\"\n",
        "!cd bart/\n",
        "!which bart\n",
        "!echo \"# BART version: \"\n",
        "!bart version\n",
        "!bart\n"
      ]
    },
    {
      "cell_type": "markdown",
      "metadata": {
        "id": "TLvxIuFqgMMh"
      },
      "source": [
        "## Moving into the Problem"
      ]
    },
    {
      "cell_type": "markdown",
      "source": [
        "### Remaining Libs"
      ],
      "metadata": {
        "id": "poxuOyInHkLh"
      }
    },
    {
      "cell_type": "code",
      "source": [
        "# More python libraries\n",
        "import cfl"
      ],
      "metadata": {
        "id": "Ee78nTg_mT10"
      },
      "execution_count": 48,
      "outputs": []
    },
    {
      "cell_type": "markdown",
      "metadata": {
        "id": "SwVwjt5gh2Mv"
      },
      "source": [
        "### Setup Visualization Helper\n",
        "https://github.com/mrirecon/bart/blob/master/python/cfl.py\n",
        "\n",
        "https://colab.research.google.com/github/mrirecon/bart-workshop/blob/master/mri_together_2021/bart_intro_examples.ipynb#scrollTo=__DLJ4XLDwXx\n"
      ]
    },
    {
      "cell_type": "code",
      "execution_count": 49,
      "metadata": {
        "id": "d8-WY3SLiFQM"
      },
      "outputs": [],
      "source": [
        "def plot_map(dataname, colorbar, vmin, vmax, cbar_label):\n",
        "\n",
        "    # Import data\n",
        "    data = np.abs(cfl.readcfl(dataname).squeeze())\n",
        "\n",
        "    # Import colorbar type\n",
        "    colorbartype =  colorbar\n",
        "\n",
        "    # Set zero to a black color for a masking effect\n",
        "    my_cmap = cm.get_cmap(colorbartype, 256)\n",
        "    my_cmap.set_bad('black')\n",
        "\n",
        "    data = np.ma.masked_equal(data, 0)\n",
        "\n",
        "    fig = plt.figure(figsize=(15,15))\n",
        "    ax1 = fig.add_subplot(111)\n",
        "    im = ax1.imshow(data, interpolation='nearest', cmap=my_cmap, vmin=vmin, vmax=vmax)\n",
        "\n",
        "    # Style settings\n",
        "    divider = make_axes_locatable(ax1)\n",
        "    cax = divider.append_axes(\"right\", size=\"5%\", pad=0.05)\n",
        "    cbar = plt.colorbar(im, cax=cax)\n",
        "    cbar.set_label(cbar_label)\n",
        "    cbar.ax.tick_params()\n",
        "\n",
        "    ax1.set_yticklabels([])\n",
        "    ax1.set_xticklabels([])\n",
        "    ax1.xaxis.set_ticks_position('none')\n",
        "    ax1.yaxis.set_ticks_position('none')\n",
        "    ax1.set_axis_off()\n",
        "\n",
        "    plt.show()"
      ]
    },
    {
      "cell_type": "markdown",
      "metadata": {
        "id": "w1rtXjdddwrr"
      },
      "source": [
        "### Function definations"
      ]
    },
    {
      "cell_type": "code",
      "source": [
        "#fastmri_to_bart changes the dimentions appropriately to the cfl files\n",
        "def fastmri_to_bart(data_kspace, slice_no):\n",
        "    if slice_no == None:\n",
        "        slice_kspace = data_kspace\n",
        "    else:\n",
        "        slice_kspace = data_kspace[slice_no,:,:,:]\n",
        "    slice_kspace_format = np.transpose(slice_kspace, axes=[1,2,0])\n",
        "    slice_kspace_format2=np.expand_dims(slice_kspace_format, axis=2)\n",
        "    return slice_kspace_format2\n",
        "\n",
        "# slice_wrapper = fastmri_to_bart(volume_kspace,1)\n",
        "\n",
        "# Get a list of all .h5 files in the directory\n",
        "def get_file_list():\n",
        "  h5_files = glob.glob(os.path.join(h5_path, \"*.h5\"))\n",
        "  ll=[]\n",
        "\n",
        "  for h5_file in h5_files:\n",
        "    temp=h5_file.replace(h5_path,\"\")\n",
        "    temp=temp.replace(\".h5\",\"\")\n",
        "    ll.append(temp)\n",
        "  return ll\n",
        "\n",
        "#Getting User Input on Image\n",
        "def get_user_input(ll):\n",
        "  for index,tt in enumerate(ll):\n",
        "    print(index,\":\\t\", tt)\n",
        "  print(\"\\nEnter the index of the file name from the above list: \")\n",
        "  ins = input()\n",
        "  return int(ins)\n",
        "\n",
        "#Extracting Volume K Space for specified Image.\n",
        "def get_volume_kspace(h5_file_name):\n",
        "  hf= h5py.File(h5_file_name)\n",
        "  volume_kspace = hf['kspace'][()]\n",
        "  return volume_kspace\n"
      ],
      "metadata": {
        "id": "vQ-2IjvMDx8F"
      },
      "execution_count": 50,
      "outputs": []
    },
    {
      "cell_type": "markdown",
      "source": [
        "### H5 file Reading"
      ],
      "metadata": {
        "id": "v-6ogf_XFiMa"
      }
    },
    {
      "cell_type": "code",
      "execution_count": 53,
      "metadata": {
        "id": "-Gl_Hlvadwrk",
        "colab": {
          "base_uri": "https://localhost:8080/"
        },
        "outputId": "1d14dff4-4d5e-4f88-ea6c-54a75af74fc4"
      },
      "outputs": [
        {
          "output_type": "stream",
          "name": "stdout",
          "text": [
            "0 :\t file_brain_AXFLAIR_200_6002452\n",
            "1 :\t file_brain_AXFLAIR_200_6002467\n",
            "2 :\t file_brain_AXT1POST_201_6002673\n",
            "3 :\t file_brain_AXT2_210_6001944\n",
            "\n",
            "Enter the index of the file name from the above list: \n",
            "0\n",
            "(16, 20, 640, 320)\n"
          ]
        }
      ],
      "source": [
        "# H5 File Reading\n",
        "h5_file_list=get_file_list()\n",
        "ins=get_user_input(h5_file_list)\n",
        "h5_file_name=h5_path+h5_file_list[int(ins)]+\".h5\"\n",
        "\n",
        "#Getting the Volume K Space Data\n",
        "volume_kspace = get_volume_kspace(h5_file_name)\n",
        "print(volume_kspace.shape)"
      ]
    },
    {
      "cell_type": "code",
      "execution_count": 59,
      "metadata": {
        "colab": {
          "base_uri": "https://localhost:8080/"
        },
        "id": "2Szo6Uiadwrr",
        "outputId": "c7059140-6060-4ba6-9711-55e1fb0c952f"
      },
      "outputs": [
        {
          "output_type": "stream",
          "name": "stdout",
          "text": [
            "Slice K-Space size:  (20, 640, 320)\n",
            "160\n",
            "(20, 640, 33)\n"
          ]
        }
      ],
      "source": [
        "# Extracting Slice from volume K Space\n",
        "slice_kspace = volume_kspace[1]\n",
        "print(\"Slice K-Space size: \",slice_kspace.shape)\n",
        "\n",
        "slice_kspace_mid=int(slice_kspace.shape[2]/2)\n",
        "print(slice_kspace_mid)\n",
        "temp_ref=slice_kspace[:,:,slice_kspace_mid-16:slice_kspace_mid+17]\n",
        "print(temp_ref.shape)\n",
        "\n",
        "reference=fastmri_to_bart(slice_kspace,None)\n",
        "print(\"Slice K-Space size(in .cfl format): \",reference.shape)\n",
        "\n",
        "# #Converting to Tensors\n",
        "# slice_kspace2 = T.to_tensor(slice_kspace)\n",
        "# print(slice_kspace2.dtype)"
      ]
    },
    {
      "cell_type": "code",
      "source": [
        "# Extracting Slice from volume K Space\n",
        "slice_kspace = volume_kspace[1]\n",
        "print(\"Slice K-Space size: \",slice_kspace.shape)\n",
        "\n",
        "reference=fastmri_to_bart(slice_kspace,None)\n",
        "print(\"Slice K-Space size(in .cfl format): \",reference.shape)\n",
        "\n",
        "#Converting to Tensors\n",
        "slice_kspace2 = T.to_tensor(slice_kspace)\n",
        "print(slice_kspace2.dtype)"
      ],
      "metadata": {
        "id": "tCBMF4dCgJ1f"
      },
      "execution_count": null,
      "outputs": []
    },
    {
      "cell_type": "code",
      "execution_count": null,
      "metadata": {
        "id": "EKeA5LiLdwrr"
      },
      "outputs": [],
      "source": [
        "# Create the mask function object\n",
        "cntr_frac=0.04\n",
        "acc_fact=2\n",
        "mask_func = RandomMaskFunc(center_fractions=[cntr_frac], accelerations=[acc_fact])\n",
        "\n",
        "# Apply the mask to the sliced k-space\n",
        "masked_kspace = T.apply_mask(slice_kspace2, mask_func)\n",
        "\n",
        "# Masked Space Combination\n",
        "# print(type(masked_kspace))\n",
        "# print(masked_kspace[0].dtype)\n",
        "# print(masked_kspace[0].shape)\n",
        "\n",
        "masked_kspace_npy = masked_kspace[0].numpy()\n",
        "# print(masked_kspace_npy.shape)\n",
        "masked_kspace_C_npy = masked_kspace_npy[:,:,:,0] + 1j* masked_kspace_npy[:,:,:,1]\n",
        "# print(masked_kspace_C_npy.shape)\n",
        "\n",
        "k_fastmri_ds = fastmri_to_bart(masked_kspace_C_npy, None)\n",
        "# print(k_fastmri_ds.shape)\n"
      ]
    },
    {
      "cell_type": "code",
      "source": [
        "# print(mask_func)"
      ],
      "metadata": {
        "id": "WWzy7Q1ldAjC"
      },
      "execution_count": null,
      "outputs": []
    },
    {
      "cell_type": "code",
      "execution_count": null,
      "metadata": {
        "id": "jFpdnFUTdwrs"
      },
      "outputs": [],
      "source": [
        "sampled_path=buffer_path+\"downsampled_fastmri\"\n",
        "reference_path=buffer_path+\"fullspace_fastmri\"\n",
        "# print(sampled_path)\n",
        "# print(reference_path)\n",
        "cfl.writecfl(sampled_path,k_fastmri_ds )\n",
        "cfl.writecfl(reference_path,reference )\n"
      ]
    },
    {
      "cell_type": "markdown",
      "metadata": {
        "id": "nfk2EcvIdwrr"
      },
      "source": [
        "### Visualizing the Data"
      ]
    },
    {
      "cell_type": "markdown",
      "source": [
        "#### Full Spaced Image"
      ],
      "metadata": {
        "id": "JNY45BHXME4j"
      }
    },
    {
      "cell_type": "code",
      "source": [
        "%%bash\n",
        "bart ecalib -r24 -m1 /content/drive/MyDrive/MRI/BUFFER/fullspace_fastmri /content/drive/MyDrive/MRI/CFL/coils_l\n",
        "FFT_FLAG=$(bart bitmask 0 1)\n",
        "COIL_FLAG=$(bart bitmask 3)\n",
        "bart fft -i -u $FFT_FLAG /content/drive/MyDrive/MRI/BUFFER/fullspace_fastmri /content/drive/MyDrive/MRI/CFL/coil_image\n",
        "bart fmac -C -s$COIL_FLAG /content/drive/MyDrive/MRI/CFL/coil_image /content/drive/MyDrive/MRI/CFL/coils_l /content/drive/MyDrive/MRI/CFL/image_fs"
      ],
      "metadata": {
        "id": "Uq9GDsg8LQX0"
      },
      "execution_count": null,
      "outputs": []
    },
    {
      "cell_type": "code",
      "execution_count": null,
      "metadata": {
        "id": "LBjn7qAbdwrs"
      },
      "outputs": [],
      "source": [
        "#Visualizing actual Image(reference Image)\n",
        "ds_image_path=cfl_path + \"image_fs\"\n",
        "pics_ds = cfl.readcfl(ds_image_path)\n",
        "print(np.shape(pics_ds))\n",
        "vmax=0.5*np.max(np.abs(pics_ds))\n",
        "plt.imshow(np.abs(pics_ds), cmap=\"gray\", vmax=vmax)\n",
        "plt.show()"
      ]
    },
    {
      "cell_type": "markdown",
      "source": [
        "#### Down Sampled Image"
      ],
      "metadata": {
        "id": "vzMxwfHMMJq7"
      }
    },
    {
      "cell_type": "code",
      "source": [
        "%%bash\n",
        "bart ecalib -r24 -m1 /content/drive/MyDrive/MRI/BUFFER/downsampled_fastmri /content/drive/MyDrive/MRI/CFL/coils_l\n",
        "FFT_FLAG=$(bart bitmask 0 1)\n",
        "COIL_FLAG=$(bart bitmask 3)\n",
        "bart fft -i -u $FFT_FLAG /content/drive/MyDrive/MRI/BUFFER/downsampled_fastmri /content/drive/MyDrive/MRI/CFL/coil_image\n",
        "bart fmac -C -s$COIL_FLAG /content/drive/MyDrive/MRI/CFL/coil_image /content/drive/MyDrive/MRI/CFL/coils_l /content/drive/MyDrive/MRI/CFL/image_ds"
      ],
      "metadata": {
        "id": "z33mFdK64htW"
      },
      "execution_count": null,
      "outputs": []
    },
    {
      "cell_type": "code",
      "execution_count": null,
      "metadata": {
        "id": "IOovSxI-dwrr"
      },
      "outputs": [],
      "source": [
        "fs_image_path=cfl_path + \"image_ds\"\n",
        "pics_ref = cfl.readcfl(fs_image_path)\n",
        "\n",
        "print(np.shape(pics_ref))\n",
        "vmax=0.5*np.max(np.abs(pics_ref))\n",
        "plt.imshow(np.abs(pics_ref), cmap=\"gray\", vmax=vmax)\n",
        "plt.show()"
      ]
    },
    {
      "cell_type": "markdown",
      "source": [
        "### Reconstruction Process"
      ],
      "metadata": {
        "id": "qAV6l7xDMSVS"
      }
    },
    {
      "cell_type": "code",
      "source": [
        "#BART Image Reconstruction\n",
        "!bart ecalib /content/drive/MyDrive/MRI/BUFFER/downsampled_fastmri /content/drive/MyDrive/MRI/BUFFER/sensitivities\n",
        "!bart pics -l1 -r0.001 /content/drive/MyDrive/MRI/BUFFER/downsampled_fastmri /content/drive/MyDrive/MRI/BUFFER/sensitivities /content/drive/MyDrive/MRI/CFL/image_out_fmri"
      ],
      "metadata": {
        "id": "JWoHPJyE9zuM"
      },
      "execution_count": null,
      "outputs": []
    },
    {
      "cell_type": "code",
      "execution_count": null,
      "metadata": {
        "id": "93zK5Vcmdwrs"
      },
      "outputs": [],
      "source": [
        "#BART Reconstructed Image Visualization\n",
        "reconstructed_image_path=cfl_path + \"image_out_fmri\"\n",
        "pics_reco = cfl.readcfl(reconstructed_image_path)\n",
        "vmax=0.5*np.max(np.abs(pics_reco))\n",
        "pics_reco_sq = np.squeeze(pics_reco)\n",
        "print(np.shape(pics_reco_sq))\n",
        "\n",
        "# fig, axes = plt.subplots(figsize=(20,6), nrows=1, ncols=3, sharex=True, sharey=True)\n",
        "\n",
        "plt.imshow(np.abs(pics_reco_sq[:,:,0]), cmap=\"gray\", vmax=vmax)\n",
        "plt.show()\n"
      ]
    },
    {
      "cell_type": "code",
      "execution_count": null,
      "metadata": {
        "id": "NwX0W09tdwrs"
      },
      "outputs": [],
      "source": [
        "#Difference Map Plotting\n",
        "diff_map = np.abs(pics_reco_sq[:,:,0])/np.max(np.abs(pics_reco_sq[:,:,0])) - np.abs(pics_ref)/np.max(np.abs(pics_ref))\n",
        "plt.imshow(np.abs(diff_map), cmap=\"gray\", vmax=1)\n",
        "plt.show()"
      ]
    },
    {
      "cell_type": "code",
      "execution_count": null,
      "metadata": {
        "id": "2rVoi32Hdwrs"
      },
      "outputs": [],
      "source": [
        "diff_map = np.abs(pics_ds)/np.max(np.abs(pics_ds)) - np.abs(pics_ref)/np.max(np.abs(pics_ref))\n",
        "plt.imshow(np.abs(diff_map), cmap=\"gray\", vmax=1)\n",
        "plt.show()"
      ]
    },
    {
      "cell_type": "markdown",
      "source": [
        "## Removing the BUFFER"
      ],
      "metadata": {
        "id": "Nw2qDQSVNHiD"
      }
    },
    {
      "cell_type": "code",
      "source": [
        "# Check if the directory exists\n",
        "if os.path.exists(buffer_path) and os.path.isdir(buffer_path):\n",
        "    try:\n",
        "        # Force delete the directory and all its contents\n",
        "        shutil.rmtree(buffer_path)\n",
        "        print(f\"Directory '{buffer_path}' and all its contents have been deleted.\")\n",
        "    except Exception as e:\n",
        "        print(f\"Error while deleting the directory: {e}\")\n",
        "else:\n",
        "    print(f\"The directory '{buffer_path}' does not exist.\")\n",
        "\n"
      ],
      "metadata": {
        "id": "XFk6ivswfjcT"
      },
      "execution_count": null,
      "outputs": []
    }
  ],
  "metadata": {
    "colab": {
      "provenance": [],
      "include_colab_link": true
    },
    "kernelspec": {
      "display_name": "envforbart2",
      "language": "python",
      "name": "python3"
    },
    "language_info": {
      "codemirror_mode": {
        "name": "ipython",
        "version": 3
      },
      "file_extension": ".py",
      "mimetype": "text/x-python",
      "name": "python",
      "nbconvert_exporter": "python",
      "pygments_lexer": "ipython3",
      "version": "3.9.21"
    }
  },
  "nbformat": 4,
  "nbformat_minor": 0
}